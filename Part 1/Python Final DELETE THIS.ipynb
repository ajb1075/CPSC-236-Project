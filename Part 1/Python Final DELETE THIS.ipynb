{
 "cells": [
  {
   "cell_type": "code",
   "execution_count": 239,
   "id": "e7822a04-0875-4ec5-9350-d1437c20600a",
   "metadata": {},
   "outputs": [
    {
     "name": "stdin",
     "output_type": "stream",
     "text": [
      "Please enter your first name:  a\n",
      "Please enter your last name:  b\n",
      "Please enter your ID:  A00000\n"
     ]
    },
    {
     "name": "stdout",
     "output_type": "stream",
     "text": [
      "Welcome a!\n",
      "\n",
      "Question: Which correctly turns a string (with values seperated by a single white space) into a list? \n",
      "Option A: string.list() \n",
      "Option B: string.split()\n",
      "Option C: string.array()\n"
     ]
    },
    {
     "name": "stdin",
     "output_type": "stream",
     "text": [
      "\n",
      "Your answer: a\n"
     ]
    },
    {
     "name": "stdout",
     "output_type": "stream",
     "text": [
      "Correct answer B\n",
      "\n",
      "Question: What is a dictionary? \n",
      "Option A: Unsorted list \n",
      "Option B: Sorted list\n",
      "Option C: Key value pairs\n"
     ]
    },
    {
     "name": "stdin",
     "output_type": "stream",
     "text": [
      "\n",
      "Your answer: a\n"
     ]
    },
    {
     "name": "stdout",
     "output_type": "stream",
     "text": [
      "Correct answer C\n",
      "\n",
      "Question: Which of the following data types is NOT in Python? \n",
      "Option A: float \n",
      "Option B: int\n",
      "Option C: double\n"
     ]
    },
    {
     "name": "stdin",
     "output_type": "stream",
     "text": [
      "\n",
      "Your answer: a\n"
     ]
    },
    {
     "name": "stdout",
     "output_type": "stream",
     "text": [
      "Correct answer C\n",
      "\n",
      "Question: Which HTML tag will give you the largest header? \n",
      "Option A: <h6> \n",
      "Option B: <h3>\n",
      "Option C: <h1>\n"
     ]
    },
    {
     "name": "stdin",
     "output_type": "stream",
     "text": [
      "\n",
      "Your answer: a\n"
     ]
    },
    {
     "name": "stdout",
     "output_type": "stream",
     "text": [
      "Correct answer C\n",
      "\n",
      "Question: What does SELECT do in SQL? \n",
      "Option A: Find similarity between two pieces of data. \n",
      "Option B: Find any number of instances with specifications.\n",
      "Option C: Finds only the closest match between two pieces of data.\n"
     ]
    },
    {
     "name": "stdin",
     "output_type": "stream",
     "text": [
      "\n",
      "Your answer: a\n"
     ]
    },
    {
     "name": "stdout",
     "output_type": "stream",
     "text": [
      "Correct answer B\n",
      "\n",
      "Question: Which of the following is correct about Python? \n",
      "Option A: It supports automatic garbage collection \n",
      "Option B: It can be easily integrated with C, C++, COM, ActiveX, CORBA, and Java\n",
      "Option C: Both of the above\n"
     ]
    },
    {
     "name": "stdin",
     "output_type": "stream",
     "text": [
      "\n",
      "Your answer: a\n"
     ]
    },
    {
     "name": "stdout",
     "output_type": "stream",
     "text": [
      "Correct answer C\n",
      "\n",
      "Question: Which tag do you start an HTML webpage with? \n",
      "Option A: <Body> \n",
      "Option B: <Head>\n",
      "Option C: <Div>\n"
     ]
    },
    {
     "name": "stdin",
     "output_type": "stream",
     "text": [
      "\n",
      "Your answer: a\n"
     ]
    },
    {
     "name": "stdout",
     "output_type": "stream",
     "text": [
      "Correct answer B\n",
      "\n",
      "Question: Which of the following is a false boolean in Python? \n",
      "Option A: notTrue = false \n",
      "Option B: notTrue = 0\n",
      "Option C: notTrue = False\n"
     ]
    },
    {
     "name": "stdin",
     "output_type": "stream",
     "text": [
      "\n",
      "Your answer: a\n"
     ]
    },
    {
     "name": "stdout",
     "output_type": "stream",
     "text": [
      "Correct answer C\n",
      "\n",
      "Question: What library can PI be accessed with? \n",
      "Option A: Calc \n",
      "Option B: Math\n",
      "Option C: Geometry\n"
     ]
    },
    {
     "name": "stdin",
     "output_type": "stream",
     "text": [
      "\n",
      "Your answer: a\n"
     ]
    },
    {
     "name": "stdout",
     "output_type": "stream",
     "text": [
      "Correct answer B\n",
      "\n",
      "Question: What type of data structure is used to store a collection of items in Python? \n",
      "Option A: Tuple \n",
      "Option B: List\n",
      "Option C: Dictionary\n"
     ]
    },
    {
     "name": "stdin",
     "output_type": "stream",
     "text": [
      "\n",
      "Your answer: a\n"
     ]
    },
    {
     "name": "stdout",
     "output_type": "stream",
     "text": [
      "Correct answer B\n",
      "\n",
      "Out of 10 you got 0 correct.\n"
     ]
    },
    {
     "name": "stdin",
     "output_type": "stream",
     "text": [
      "A file with your results has been created. Enter Q to quit or S to clear the screen for the next student:  q\n"
     ]
    },
    {
     "name": "stdout",
     "output_type": "stream",
     "text": [
      "Goodbye.\n"
     ]
    }
   ],
   "source": [
    "import pandas as pd\n",
    "import random\n",
    "from IPython.display import clear_output\n",
    "\n",
    "def checkUser():\n",
    "    firstName = \"\"\n",
    "    lastName = \"\"\n",
    "    userID = \"\"\n",
    "    x = 3\n",
    "    \n",
    "    firstName = input(\"Please enter your first name: \")\n",
    "    lastName = input(\"Please enter your last name: \")\n",
    "    userID = input(\"Please enter your ID: \")\n",
    "    \n",
    "    while x > 0:\n",
    "        if len(userID) != 6 or userID == \"\":\n",
    "            print(\"Incorrect length.\")\n",
    "        elif userID[0] != \"A\":\n",
    "            print(\"Invalid start.\")\n",
    "        elif userID[1:].isdigit == False:\n",
    "            print(\"Only digits allowed.\")\n",
    "        else:\n",
    "            print(\"Welcome\", firstName + \"!\")\n",
    "            break\n",
    "            \n",
    "        x-=1\n",
    "        if x > 0:\n",
    "            userID = input(\"\\nPlease enter a valid ID. You have \" + str(x) + \" chances remaining.\")\n",
    "        else:\n",
    "            print(\"No chances remaining.\")\n",
    "\n",
    "    return firstName, lastName, userID\n",
    "\n",
    "def getChoices(end):\n",
    "    randomChoices = []\n",
    "    for i in range(0, end):\n",
    "        tempRandom = random.randint(0, 128)\n",
    "        randomChoices.append(tempRandom)\n",
    "    return(randomChoices)\n",
    "\n",
    "def main():\n",
    "    while True:\n",
    "        try:\n",
    "            dataframe = pd.read_excel(\"CPSC 236 TestBank.xlsx\")\n",
    "        except FileNotFoundError:\n",
    "            print(\"Test bank not found.\")\n",
    "            break\n",
    "        correct = 0\n",
    "        numQuestions = 10\n",
    "        writeQuestions = {\"Number\":{}}\n",
    "        \n",
    "        firstName, lastName, userID = checkUser()\n",
    "        choices = getChoices(numQuestions)\n",
    "    \n",
    "        for i in range(0, numQuestions):\n",
    "            try:\n",
    "                row = dataframe.iloc[choices[i]]\n",
    "            except IndexError:\n",
    "                print(\"Error at index\", i)\n",
    "            \n",
    "            print(\"\\nQuestion:\", row.iloc[0], \"\\nOption A:\", row.iloc[1], \"\\nOption B:\", row.iloc[2])\n",
    "            if not pd.isnull(row.iloc[3]):\n",
    "                print(\"Option C:\", row.iloc[3])\n",
    "    \n",
    "            userAns = input(\"\\nYour answer:\").upper()\n",
    "    \n",
    "            tempDict = {\"Question\": row.iloc[0], \"Correct\": row.iloc[4], \"Answered\": userAns}\n",
    "            writeQuestions[i] = tempDict\n",
    "            \n",
    "            if userAns == row.iloc[4]:\n",
    "                correct+=1\n",
    "    \n",
    "        print(\"\\nOut of\", numQuestions, \"you got\", correct, \"correct.\")\n",
    "    \n",
    "        fileName = userID + \"_\" + firstName + \"_\" + lastName + \".txt\"\n",
    "        with open(fileName, \"w\") as studentFile:\n",
    "            studentFile.write(userID + \": \" + firstName + \" \" + lastName)\n",
    "            studentFile.write(\"\\nScore: \" + str(correct))\n",
    "            studentFile.write(\"\\nTime elapsed: \")\n",
    "            for i in range(0,len(writeQuestions)-1):\n",
    "                studentFile.write(\"\\n\" + writeQuestions[i][\"Question\"] + \"\\nCorrect answer: \" + writeQuestions[i][\"Correct\"] + \"\\nGiven answer: \" + writeQuestions[i][\"Answered\"])\n",
    "    \n",
    "        while True:\n",
    "            endOption = input(\"A file with your results has been created. Enter Q to quit or S to clear the screen for the next student: \").upper()\n",
    "\n",
    "            if endOption in ('Q', 'S'):\n",
    "                break\n",
    "            else:\n",
    "                print(\"Please enter a valid option.\")\n",
    "            \n",
    "        if endOption == \"Q\":\n",
    "            print(\"Goodbye.\")\n",
    "            break\n",
    "        elif endOption == \"S\":\n",
    "            clear_output()\n",
    "            continue\n",
    "\n",
    "if __name__ == \"__main__\":\n",
    "    main()"
   ]
  },
  {
   "cell_type": "code",
   "execution_count": null,
   "id": "d2df35d1-c951-4a7d-82a9-512db6fa81e5",
   "metadata": {},
   "outputs": [],
   "source": []
  },
  {
   "cell_type": "code",
   "execution_count": null,
   "id": "888e3bda-4cd6-4835-a9b0-101cfc3a34f9",
   "metadata": {},
   "outputs": [],
   "source": []
  },
  {
   "cell_type": "code",
   "execution_count": null,
   "id": "5cb49664-081d-47ce-8544-46720338fb44",
   "metadata": {},
   "outputs": [],
   "source": []
  }
 ],
 "metadata": {
  "kernelspec": {
   "display_name": "Python [conda env:base] *",
   "language": "python",
   "name": "conda-base-py"
  },
  "language_info": {
   "codemirror_mode": {
    "name": "ipython",
    "version": 3
   },
   "file_extension": ".py",
   "mimetype": "text/x-python",
   "name": "python",
   "nbconvert_exporter": "python",
   "pygments_lexer": "ipython3",
   "version": "3.12.7"
  }
 },
 "nbformat": 4,
 "nbformat_minor": 5
}
